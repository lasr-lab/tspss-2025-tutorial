{
 "cells": [
  {
   "cell_type": "code",
   "id": "initial_id",
   "metadata": {
    "collapsed": true
   },
   "source": [
    "\"\"\"\n",
    "Create a simple model to convert RGB images to grayscale.\n",
    "\n",
    "* The filter converts RGB images to grayscale using the standard luminosity method.\n",
    "* It inherits from `BaseFilter` and implements `forward` and `onnx_export`.\n",
    "* Finally, the model is saved to disk for later use.\n",
    "\"\"\"\n",
    "\n",
    "from typing import Dict, Any\n",
    "\n",
    "import torch\n",
    "import torch.onnx\n",
    "from opentouch.core.base_filter import BaseFilter\n",
    "\n",
    "\n",
    "class GrayscaleFilter(BaseFilter):\n",
    "    \"\"\"Convert input RGB images to grayscale.\"\"\"\n",
    "\n",
    "    def __init__(self, height: int, width: int):\n",
    "        super().__init__()\n",
    "        self.height = height\n",
    "        self.width = width\n",
    "\n",
    "    @property\n",
    "    def description(self) -> str:\n",
    "        return \"A model that converts an input RGB image to a grayscale image.\"\n",
    "\n",
    "    def forward(self, x: torch.Tensor) -> torch.Tensor:\n",
    "        \"\"\"Forward pass converting [N, H, W, C] → grayscale [N, 1, H, W].\"\"\"\n",
    "        x = x.permute(0, 3, 1, 2)  # [N, H, W, C] → [N, C, H, W]\n",
    "        x = x.float() / 255.0\n",
    "\n",
    "        # TODO: Implement grayscale conversion\n",
    "\n",
    "        grayscale = ...\n",
    "        return grayscale\n",
    "\n",
    "    def onnx_export(self) -> Dict[str, Any]:\n",
    "        \"\"\"Parameters for ONNX export.\"\"\"\n",
    "        return {\n",
    "            \"example_input\": torch.randint(0, 256, (1, 320, 240, 3), dtype=torch.uint8),\n",
    "            \"input_names\": [\"input\"],\n",
    "            \"output_names\": [\"output\"],\n",
    "        }\n",
    "\n",
    "\n",
    "# Save the model\n",
    "gray_filter = ...\n",
    "gray_filter.save(...)\n"
   ],
   "outputs": [],
   "execution_count": null
  }
 ],
 "metadata": {
  "kernelspec": {
   "display_name": "Python 3",
   "language": "python",
   "name": "python3"
  },
  "language_info": {
   "codemirror_mode": {
    "name": "ipython",
    "version": 2
   },
   "file_extension": ".py",
   "mimetype": "text/x-python",
   "name": "python",
   "nbconvert_exporter": "python",
   "pygments_lexer": "ipython2",
   "version": "2.7.6"
  }
 },
 "nbformat": 4,
 "nbformat_minor": 5
}
